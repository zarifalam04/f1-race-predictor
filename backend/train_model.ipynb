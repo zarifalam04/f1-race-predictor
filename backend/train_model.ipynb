{
 "cells": [
  {
   "cell_type": "code",
   "execution_count": 1,
   "id": "28a1d8da-ec6f-485f-a96f-a9ed22fdf490",
   "metadata": {},
   "outputs": [
    {
     "ename": "ModuleNotFoundError",
     "evalue": "No module named 'matplotlib'",
     "output_type": "error",
     "traceback": [
      "\u001b[31m---------------------------------------------------------------------------\u001b[39m",
      "\u001b[31mModuleNotFoundError\u001b[39m                       Traceback (most recent call last)",
      "\u001b[36mCell\u001b[39m\u001b[36m \u001b[39m\u001b[32mIn[1]\u001b[39m\u001b[32m, line 4\u001b[39m\n\u001b[32m      2\u001b[39m \u001b[38;5;28;01mimport\u001b[39;00m\u001b[38;5;250m \u001b[39m\u001b[34;01mpandas\u001b[39;00m\u001b[38;5;250m \u001b[39m\u001b[38;5;28;01mas\u001b[39;00m\u001b[38;5;250m \u001b[39m\u001b[34;01mpd\u001b[39;00m\n\u001b[32m      3\u001b[39m \u001b[38;5;28;01mimport\u001b[39;00m\u001b[38;5;250m \u001b[39m\u001b[34;01mnumpy\u001b[39;00m\u001b[38;5;250m \u001b[39m\u001b[38;5;28;01mas\u001b[39;00m\u001b[38;5;250m \u001b[39m\u001b[34;01mnp\u001b[39;00m\n\u001b[32m----> \u001b[39m\u001b[32m4\u001b[39m \u001b[38;5;28;01mimport\u001b[39;00m\u001b[38;5;250m \u001b[39m\u001b[34;01mmatplotlib\u001b[39;00m\u001b[34;01m.\u001b[39;00m\u001b[34;01mpyplot\u001b[39;00m\u001b[38;5;250m \u001b[39m\u001b[38;5;28;01mas\u001b[39;00m\u001b[38;5;250m \u001b[39m\u001b[34;01mplt\u001b[39;00m\n\u001b[32m      5\u001b[39m \u001b[38;5;28;01mfrom\u001b[39;00m\u001b[38;5;250m \u001b[39m\u001b[34;01msklearn\u001b[39;00m\u001b[34;01m.\u001b[39;00m\u001b[34;01mmodel_selection\u001b[39;00m\u001b[38;5;250m \u001b[39m\u001b[38;5;28;01mimport\u001b[39;00m train_test_split\n\u001b[32m      6\u001b[39m \u001b[38;5;28;01mfrom\u001b[39;00m\u001b[38;5;250m \u001b[39m\u001b[34;01msklearn\u001b[39;00m\u001b[34;01m.\u001b[39;00m\u001b[34;01mensemble\u001b[39;00m\u001b[38;5;250m \u001b[39m\u001b[38;5;28;01mimport\u001b[39;00m RandomForestClassifier\n",
      "\u001b[31mModuleNotFoundError\u001b[39m: No module named 'matplotlib'"
     ]
    }
   ],
   "source": [
    "# Step 1: Import libraries\n",
    "import pandas as pd\n",
    "import numpy as np\n",
    "import matplotlib.pyplot as plt\n",
    "from sklearn.model_selection import train_test_split\n",
    "from sklearn.ensemble import RandomForestClassifier\n",
    "from sklearn.metrics import accuracy_score, confusion_matrix, classification_report\n",
    "import joblib"
   ]
  },
  {
   "cell_type": "code",
   "execution_count": 1,
   "id": "790e85fe-4790-4456-a972-96bb4c941e46",
   "metadata": {},
   "outputs": [
    {
     "name": "stdout",
     "output_type": "stream",
     "text": [
      "C:\\Users\\zarif\\OneDrive\\Documents\\f1-race-predictor\\backend\\venv\\Scripts\\python.exe\n"
     ]
    }
   ],
   "source": [
    "import sys\n",
    "print(sys.executable)"
   ]
  },
  {
   "cell_type": "code",
   "execution_count": 2,
   "id": "351758b3-aa06-4445-b2f1-dfbdd5e2a3d3",
   "metadata": {},
   "outputs": [
    {
     "name": "stdout",
     "output_type": "stream",
     "text": [
      "3.10.7\n"
     ]
    }
   ],
   "source": [
    "import matplotlib\n",
    "print(matplotlib.__version__)\n"
   ]
  },
  {
   "cell_type": "code",
   "execution_count": 3,
   "id": "a4894760-2774-411a-b73f-dd5ecaca5544",
   "metadata": {},
   "outputs": [],
   "source": [
    "import pandas as pd\n",
    "import numpy as np\n",
    "import matplotlib.pyplot as plt\n",
    "from sklearn.model_selection import train_test_split\n",
    "from sklearn.ensemble import RandomForestClassifier\n",
    "from sklearn.metrics import accuracy_score, confusion_matrix, classification_report\n"
   ]
  },
  {
   "cell_type": "code",
   "execution_count": 4,
   "id": "04af8a82-f6a2-45bf-ba00-41e26e93bfc4",
   "metadata": {},
   "outputs": [
    {
     "data": {
      "text/html": [
       "<div>\n",
       "<style scoped>\n",
       "    .dataframe tbody tr th:only-of-type {\n",
       "        vertical-align: middle;\n",
       "    }\n",
       "\n",
       "    .dataframe tbody tr th {\n",
       "        vertical-align: top;\n",
       "    }\n",
       "\n",
       "    .dataframe thead th {\n",
       "        text-align: right;\n",
       "    }\n",
       "</style>\n",
       "<table border=\"1\" class=\"dataframe\">\n",
       "  <thead>\n",
       "    <tr style=\"text-align: right;\">\n",
       "      <th></th>\n",
       "      <th>driver</th>\n",
       "      <th>team</th>\n",
       "      <th>qualifying_position</th>\n",
       "      <th>avg_finish_prev_3</th>\n",
       "      <th>car_reliability</th>\n",
       "      <th>points_this_season</th>\n",
       "      <th>finish_position</th>\n",
       "    </tr>\n",
       "  </thead>\n",
       "  <tbody>\n",
       "    <tr>\n",
       "      <th>0</th>\n",
       "      <td>Verstappen</td>\n",
       "      <td>Red Bull</td>\n",
       "      <td>1</td>\n",
       "      <td>1.2</td>\n",
       "      <td>95</td>\n",
       "      <td>400</td>\n",
       "      <td>1</td>\n",
       "    </tr>\n",
       "    <tr>\n",
       "      <th>1</th>\n",
       "      <td>Hamilton</td>\n",
       "      <td>Mercedes</td>\n",
       "      <td>2</td>\n",
       "      <td>2.1</td>\n",
       "      <td>90</td>\n",
       "      <td>320</td>\n",
       "      <td>2</td>\n",
       "    </tr>\n",
       "    <tr>\n",
       "      <th>2</th>\n",
       "      <td>Leclerc</td>\n",
       "      <td>Ferrari</td>\n",
       "      <td>3</td>\n",
       "      <td>3.5</td>\n",
       "      <td>88</td>\n",
       "      <td>250</td>\n",
       "      <td>3</td>\n",
       "    </tr>\n",
       "    <tr>\n",
       "      <th>3</th>\n",
       "      <td>Norris</td>\n",
       "      <td>McLaren</td>\n",
       "      <td>4</td>\n",
       "      <td>4.0</td>\n",
       "      <td>85</td>\n",
       "      <td>200</td>\n",
       "      <td>4</td>\n",
       "    </tr>\n",
       "    <tr>\n",
       "      <th>4</th>\n",
       "      <td>Russell</td>\n",
       "      <td>Mercedes</td>\n",
       "      <td>5</td>\n",
       "      <td>4.5</td>\n",
       "      <td>87</td>\n",
       "      <td>180</td>\n",
       "      <td>5</td>\n",
       "    </tr>\n",
       "    <tr>\n",
       "      <th>5</th>\n",
       "      <td>Perez</td>\n",
       "      <td>Red Bull</td>\n",
       "      <td>6</td>\n",
       "      <td>2.9</td>\n",
       "      <td>93</td>\n",
       "      <td>270</td>\n",
       "      <td>2</td>\n",
       "    </tr>\n",
       "    <tr>\n",
       "      <th>6</th>\n",
       "      <td>Sainz</td>\n",
       "      <td>Ferrari</td>\n",
       "      <td>7</td>\n",
       "      <td>3.7</td>\n",
       "      <td>89</td>\n",
       "      <td>240</td>\n",
       "      <td>3</td>\n",
       "    </tr>\n",
       "    <tr>\n",
       "      <th>7</th>\n",
       "      <td>Piastri</td>\n",
       "      <td>McLaren</td>\n",
       "      <td>8</td>\n",
       "      <td>5.2</td>\n",
       "      <td>84</td>\n",
       "      <td>150</td>\n",
       "      <td>5</td>\n",
       "    </tr>\n",
       "    <tr>\n",
       "      <th>8</th>\n",
       "      <td>Alonso</td>\n",
       "      <td>Aston Martin</td>\n",
       "      <td>9</td>\n",
       "      <td>6.1</td>\n",
       "      <td>86</td>\n",
       "      <td>130</td>\n",
       "      <td>6</td>\n",
       "    </tr>\n",
       "    <tr>\n",
       "      <th>9</th>\n",
       "      <td>Tsunoda</td>\n",
       "      <td>RB</td>\n",
       "      <td>10</td>\n",
       "      <td>7.4</td>\n",
       "      <td>80</td>\n",
       "      <td>90</td>\n",
       "      <td>8</td>\n",
       "    </tr>\n",
       "  </tbody>\n",
       "</table>\n",
       "</div>"
      ],
      "text/plain": [
       "       driver          team  qualifying_position  avg_finish_prev_3  \\\n",
       "0  Verstappen      Red Bull                    1                1.2   \n",
       "1    Hamilton      Mercedes                    2                2.1   \n",
       "2     Leclerc       Ferrari                    3                3.5   \n",
       "3      Norris       McLaren                    4                4.0   \n",
       "4     Russell      Mercedes                    5                4.5   \n",
       "5       Perez      Red Bull                    6                2.9   \n",
       "6       Sainz       Ferrari                    7                3.7   \n",
       "7     Piastri       McLaren                    8                5.2   \n",
       "8      Alonso  Aston Martin                    9                6.1   \n",
       "9     Tsunoda            RB                   10                7.4   \n",
       "\n",
       "   car_reliability  points_this_season  finish_position  \n",
       "0               95                 400                1  \n",
       "1               90                 320                2  \n",
       "2               88                 250                3  \n",
       "3               85                 200                4  \n",
       "4               87                 180                5  \n",
       "5               93                 270                2  \n",
       "6               89                 240                3  \n",
       "7               84                 150                5  \n",
       "8               86                 130                6  \n",
       "9               80                  90                8  "
      ]
     },
     "execution_count": 4,
     "metadata": {},
     "output_type": "execute_result"
    }
   ],
   "source": [
    "import pandas as pd\n",
    "\n",
    "# Sample F1-style dataset\n",
    "data = {\n",
    "    \"driver\": [\"Verstappen\", \"Hamilton\", \"Leclerc\", \"Norris\", \"Russell\", \"Perez\", \"Sainz\", \"Piastri\", \"Alonso\", \"Tsunoda\"],\n",
    "    \"team\": [\"Red Bull\", \"Mercedes\", \"Ferrari\", \"McLaren\", \"Mercedes\", \"Red Bull\", \"Ferrari\", \"McLaren\", \"Aston Martin\", \"RB\"],\n",
    "    \"qualifying_position\": [1, 2, 3, 4, 5, 6, 7, 8, 9, 10],\n",
    "    \"avg_finish_prev_3\": [1.2, 2.1, 3.5, 4.0, 4.5, 2.9, 3.7, 5.2, 6.1, 7.4],\n",
    "    \"car_reliability\": [95, 90, 88, 85, 87, 93, 89, 84, 86, 80],\n",
    "    \"points_this_season\": [400, 320, 250, 200, 180, 270, 240, 150, 130, 90],\n",
    "    \"finish_position\": [1, 2, 3, 4, 5, 2, 3, 5, 6, 8]  # actual result (target)\n",
    "}\n",
    "\n",
    "df = pd.DataFrame(data)\n",
    "df"
   ]
  },
  {
   "cell_type": "code",
   "execution_count": null,
   "id": "16aee58b-e031-4549-a14a-1bc4b9571249",
   "metadata": {},
   "outputs": [],
   "source": []
  }
 ],
 "metadata": {
  "kernelspec": {
   "display_name": "Python (f1-venv)",
   "language": "python",
   "name": "f1-venv"
  },
  "language_info": {
   "codemirror_mode": {
    "name": "ipython",
    "version": 3
   },
   "file_extension": ".py",
   "mimetype": "text/x-python",
   "name": "python",
   "nbconvert_exporter": "python",
   "pygments_lexer": "ipython3",
   "version": "3.13.3"
  }
 },
 "nbformat": 4,
 "nbformat_minor": 5
}
